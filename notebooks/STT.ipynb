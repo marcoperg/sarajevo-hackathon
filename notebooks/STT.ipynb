{
 "cells": [
  {
   "cell_type": "code",
   "execution_count": 2,
   "id": "90c61149",
   "metadata": {},
   "outputs": [
    {
     "name": "stdout",
     "output_type": "stream",
     "text": [
      "Microphone with name \"MacBook Pro Microphone\" found for Microphone(device_index=0)\n",
      "Microphone with name \"MacBook Pro Speakers\" found for Microphone(device_index=1)\n",
      "Microphone with name \"Marco’s iPhone Microphone\" found for Microphone(device_index=2)\n",
      "Microphone with name \"Microsoft Teams Audio\" found for Microphone(device_index=3)\n",
      "Microphone with name \"Multi-Output Device\" found for Microphone(device_index=4)\n"
     ]
    }
   ],
   "source": [
    "for index, name in enumerate(sr.Microphone.list_microphone_names()):\n",
    "    print(\"Microphone with name \\\"{1}\\\" found for Microphone(device_index={0})\".format(index, name))"
   ]
  },
  {
   "cell_type": "code",
   "execution_count": 3,
   "id": "93c769e6",
   "metadata": {},
   "outputs": [
    {
     "name": "stdout",
     "output_type": "stream",
     "text": [
      "Say something!\n",
      "hola\n",
      "Audio saved as recorded_audio.wav\n"
     ]
    }
   ],
   "source": [
    "import speech_recognition as sr\n",
    "\n",
    "r = sr.Recognizer()\n",
    "\n",
    "with sr.Microphone(device_index=0) as source:\n",
    "    print(\"Say something!\")\n",
    "    r.adjust_for_ambient_noise(source, duration=0.2)\n",
    "    audio = r.listen(source, timeout=1)\n",
    "\n",
    "print(\"hola\")\n",
    "\n",
    "with open(\"recorded_audio.wav\", \"wb\") as f:\n",
    "    f.write(audio.get_wav_data())\n",
    "    print(\"Audio saved as recorded_audio.wav\")"
   ]
  },
  {
   "cell_type": "code",
   "execution_count": null,
   "id": "9c0f640c",
   "metadata": {},
   "outputs": [],
   "source": [
    "import whisper\n",
    "\n",
    "model = whisper.load_model(\"base.en\")"
   ]
  },
  {
   "cell_type": "code",
   "execution_count": null,
   "id": "2401df68",
   "metadata": {},
   "outputs": [],
   "source": [
    "result = model.transcribe(\"recorded_audio.wav\")\n",
    "print(result[\"text\"])"
   ]
  }
 ],
 "metadata": {
  "kernelspec": {
   "display_name": "Python 3 (ipykernel)",
   "language": "python",
   "name": "python3"
  },
  "language_info": {
   "codemirror_mode": {
    "name": "ipython",
    "version": 3
   },
   "file_extension": ".py",
   "mimetype": "text/x-python",
   "name": "python",
   "nbconvert_exporter": "python",
   "pygments_lexer": "ipython3",
   "version": "3.9.13"
  }
 },
 "nbformat": 4,
 "nbformat_minor": 5
}

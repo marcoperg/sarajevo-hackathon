{
 "cells": [
  {
   "cell_type": "markdown",
   "id": "2e0f6478",
   "metadata": {},
   "source": [
    "# Speech to Text: Prototyping\n",
    "\n",
    "This jupyter notebook is where the protoyping of the Speech to Text module was done"
   ]
  },
  {
   "cell_type": "code",
   "execution_count": 1,
   "id": "9b5473ce",
   "metadata": {},
   "outputs": [
    {
     "name": "stdout",
     "output_type": "stream",
     "text": [
      "Microphone with name \"DELL S2722DC\" found for Microphone(device_index=0)\n",
      "Microphone with name \"DELL S2722DC\" found for Microphone(device_index=1)\n",
      "Microphone with name \"MacBook Pro Microphone\" found for Microphone(device_index=2)\n",
      "Microphone with name \"MacBook Pro Speakers\" found for Microphone(device_index=3)\n",
      "Microphone with name \"Marco’s iPhone Microphone\" found for Microphone(device_index=4)\n",
      "Microphone with name \"Microsoft Teams Audio\" found for Microphone(device_index=5)\n",
      "Microphone with name \"Multi-Output Device\" found for Microphone(device_index=6)\n"
     ]
    }
   ],
   "source": [
    "import speech_recognition as sr\n",
    "\n",
    "# Check for available microphones\n",
    "for index, name in enumerate(sr.Microphone.list_microphone_names()):\n",
    "    print(\"Microphone with name \\\"{1}\\\" found for Microphone(device_index={0})\".format(index, name))"
   ]
  },
  {
   "cell_type": "code",
   "execution_count": 2,
   "id": "66a5d918",
   "metadata": {},
   "outputs": [
    {
     "name": "stdout",
     "output_type": "stream",
     "text": [
      "Say something!\n",
      "hola\n",
      "Audio saved as recorded_audio.wav\n"
     ]
    }
   ],
   "source": [
    "# Listen for audio\n",
    "r = sr.Recognizer()\n",
    "\n",
    "with sr.Microphone(device_index=2) as source:\n",
    "    print(\"Say something!\")\n",
    "    r.adjust_for_ambient_noise(source)\n",
    "    audio = r.listen(source) \n",
    "\n",
    "# Check audio\n",
    "with open(\"recorded_audio.wav\", \"wb\") as f:\n",
    "    f.write(audio.get_wav_data())\n",
    "    print(\"Audio saved as recorded_audio.wav\")"
   ]
  },
  {
   "cell_type": "markdown",
   "id": "f0d4547e",
   "metadata": {},
   "source": [
    "We use OpenAI's whisper model runned in local for the real speech to text part"
   ]
  },
  {
   "cell_type": "code",
   "execution_count": 3,
   "id": "a404ad4f",
   "metadata": {},
   "outputs": [],
   "source": [
    "import whisper\n",
    "\n",
    "model = whisper.load_model(\"base.en\")"
   ]
  },
  {
   "cell_type": "code",
   "execution_count": 4,
   "id": "30f5a3ca",
   "metadata": {},
   "outputs": [
    {
     "name": "stderr",
     "output_type": "stream",
     "text": [
      "/opt/homebrew/Caskroom/miniconda/base/lib/python3.9/site-packages/whisper/transcribe.py:115: UserWarning: FP16 is not supported on CPU; using FP32 instead\n",
      "  warnings.warn(\"FP16 is not supported on CPU; using FP32 instead\")\n"
     ]
    },
    {
     "name": "stdout",
     "output_type": "stream",
     "text": [
      " Hello, hello, hello, one, two, three, one, two, three.\n"
     ]
    }
   ],
   "source": [
    "result = model.transcribe(\"recorded_audio.wav\")\n",
    "print(result[\"text\"])"
   ]
  }
 ],
 "metadata": {
  "kernelspec": {
   "display_name": "Python 3 (ipykernel)",
   "language": "python",
   "name": "python3"
  },
  "language_info": {
   "codemirror_mode": {
    "name": "ipython",
    "version": 3
   },
   "file_extension": ".py",
   "mimetype": "text/x-python",
   "name": "python",
   "nbconvert_exporter": "python",
   "pygments_lexer": "ipython3",
   "version": "3.9.13"
  }
 },
 "nbformat": 4,
 "nbformat_minor": 5
}
